{
  "nbformat": 4,
  "nbformat_minor": 0,
  "metadata": {
    "colab": {
      "name": "BuildWeekProject.ipynb",
      "provenance": [],
      "collapsed_sections": [],
      "authorship_tag": "ABX9TyNxsLKhbsLgqa5reK1jbru+",
      "include_colab_link": true
    },
    "kernelspec": {
      "name": "python3",
      "display_name": "Python 3"
    },
    "language_info": {
      "name": "python"
    }
  },
  "cells": [
    {
      "cell_type": "markdown",
      "metadata": {
        "id": "view-in-github",
        "colab_type": "text"
      },
      "source": [
        "<a href=\"https://colab.research.google.com/github/ifolo-nwulu/DS-Assignment-Submission-Practice-Repository/blob/master/BuildWeekProject.ipynb\" target=\"_parent\"><img src=\"https://colab.research.google.com/assets/colab-badge.svg\" alt=\"Open In Colab\"/></a>"
      ]
    },
    {
      "cell_type": "code",
      "metadata": {
        "id": "EuQBY-Oqjpj-"
      },
      "source": [
        "#!pip install category_encoders==2.\n",
        "#!pip install pandas_profiling==2.\n",
        "\n",
        "import numpy as np\n",
        "import matplotlib.pyplot as plt\n",
        "import pandas as pd\n",
        "from sklearn.ensemble import RandomForestClassifier\n",
        "from sklearn.linear_model import LogisticRegression, LinearRegression, Ridge\n",
        "from sklearn.metrics import accuracy_score, precision_score, recall_score, \\\n",
        "plot_confusion_matrix, classification_report\n",
        "from sklearn.model_selection import train_test_split\n",
        "from sklearn.pipeline import make_pipeline\n",
        "from sklearn.preprocessing import StandardScaler\n",
        "from category_encoders import OneHotEncoder, OrdinalEncoder\n",
        "from sklearn.impute import SimpleImputer\n",
        "from sklearn.tree import DecisionTreeRegressor"
      ],
      "execution_count": null,
      "outputs": []
    },
    {
      "cell_type": "code",
      "metadata": {
        "colab": {
          "base_uri": "https://localhost:8080/",
          "height": 649
        },
        "id": "YXNlBo1HQPor",
        "outputId": "f2a2ab25-feee-4d46-9edf-0b1f703bad84"
      },
      "source": [
        "import pandas as pd\n",
        "# read an excel file and convert \n",
        "# into a dataframe object\n",
        "df = pd.DataFrame(pd.read_excel(\"Best US Cities.xlsx\"))\n",
        "  \n",
        "# show the dataframe\n",
        "df"
      ],
      "execution_count": null,
      "outputs": [
        {
          "output_type": "execute_result",
          "data": {
            "text/html": [
              "<div>\n",
              "<style scoped>\n",
              "    .dataframe tbody tr th:only-of-type {\n",
              "        vertical-align: middle;\n",
              "    }\n",
              "\n",
              "    .dataframe tbody tr th {\n",
              "        vertical-align: top;\n",
              "    }\n",
              "\n",
              "    .dataframe thead th {\n",
              "        text-align: right;\n",
              "    }\n",
              "</style>\n",
              "<table border=\"1\" class=\"dataframe\">\n",
              "  <thead>\n",
              "    <tr style=\"text-align: right;\">\n",
              "      <th></th>\n",
              "      <th>US News Rank</th>\n",
              "      <th>City</th>\n",
              "      <th>State</th>\n",
              "      <th>Metro Population</th>\n",
              "      <th>Average Annual Salary</th>\n",
              "      <th>Avg High/Low Temps</th>\n",
              "      <th>Median Age</th>\n",
              "      <th>Median Home Price</th>\n",
              "      <th>AVG Annual Rainfall</th>\n",
              "      <th>Unemployment Rate</th>\n",
              "      <th>Median Monthly Rent</th>\n",
              "      <th>Avg Commute Time</th>\n",
              "      <th>Percent Single</th>\n",
              "      <th>Total Students</th>\n",
              "      <th>Total Teachers</th>\n",
              "      <th>Violent crime</th>\n",
              "      <th>Property Crime</th>\n",
              "      <th>Link</th>\n",
              "    </tr>\n",
              "  </thead>\n",
              "  <tbody>\n",
              "    <tr>\n",
              "      <th>0</th>\n",
              "      <td>1</td>\n",
              "      <td>Austin</td>\n",
              "      <td>TX</td>\n",
              "      <td>2000590</td>\n",
              "      <td>51840</td>\n",
              "      <td>79.7° / 54.8°</td>\n",
              "      <td>34.2</td>\n",
              "      <td>292500.0</td>\n",
              "      <td>32.2 inches</td>\n",
              "      <td>0.029</td>\n",
              "      <td>1155</td>\n",
              "      <td>26.8 minutes</td>\n",
              "      <td>0.508</td>\n",
              "      <td>114529.0</td>\n",
              "      <td>7948.0</td>\n",
              "      <td>306.3</td>\n",
              "      <td>2343.4</td>\n",
              "      <td>https://realestate.usnews.com/places/texas/austin</td>\n",
              "    </tr>\n",
              "    <tr>\n",
              "      <th>1</th>\n",
              "      <td>2</td>\n",
              "      <td>Denver</td>\n",
              "      <td>CO</td>\n",
              "      <td>2798684</td>\n",
              "      <td>57400</td>\n",
              "      <td>64.6° / 36.2°</td>\n",
              "      <td>36.3</td>\n",
              "      <td>393842.0</td>\n",
              "      <td>14.3 inches</td>\n",
              "      <td>0.030</td>\n",
              "      <td>1203</td>\n",
              "      <td>27.5 minutes</td>\n",
              "      <td>0.486</td>\n",
              "      <td>171601.0</td>\n",
              "      <td>9730.0</td>\n",
              "      <td>413.9</td>\n",
              "      <td>1600.9</td>\n",
              "      <td>https://realestate.usnews.com/places/colorado/...</td>\n",
              "    </tr>\n",
              "    <tr>\n",
              "      <th>2</th>\n",
              "      <td>3</td>\n",
              "      <td>Colorado Springs</td>\n",
              "      <td>CO</td>\n",
              "      <td>698595</td>\n",
              "      <td>50050</td>\n",
              "      <td>62.1° / 35.7°</td>\n",
              "      <td>34.4</td>\n",
              "      <td>286700.0</td>\n",
              "      <td>16.5 inches</td>\n",
              "      <td>0.037</td>\n",
              "      <td>1070</td>\n",
              "      <td>23.3 minutes</td>\n",
              "      <td>0.447</td>\n",
              "      <td>39672.0</td>\n",
              "      <td>2280.0</td>\n",
              "      <td>431.8</td>\n",
              "      <td>2612.3</td>\n",
              "      <td>https://realestate.usnews.com/places/colorado/...</td>\n",
              "    </tr>\n",
              "    <tr>\n",
              "      <th>3</th>\n",
              "      <td>4</td>\n",
              "      <td>Fayetteville</td>\n",
              "      <td>AR</td>\n",
              "      <td>514166</td>\n",
              "      <td>45830</td>\n",
              "      <td>68.0° / 45.0°</td>\n",
              "      <td>33.9</td>\n",
              "      <td>177942.0</td>\n",
              "      <td>47.9 inches</td>\n",
              "      <td>0.027</td>\n",
              "      <td>778</td>\n",
              "      <td>21.1 minutes</td>\n",
              "      <td>0.442</td>\n",
              "      <td>27384.0</td>\n",
              "      <td>1924.0</td>\n",
              "      <td>375.9</td>\n",
              "      <td>2361.7</td>\n",
              "      <td>https://realestate.usnews.com/places/arkansas/...</td>\n",
              "    </tr>\n",
              "    <tr>\n",
              "      <th>4</th>\n",
              "      <td>5</td>\n",
              "      <td>Des Moines</td>\n",
              "      <td>IA</td>\n",
              "      <td>623113</td>\n",
              "      <td>50600</td>\n",
              "      <td>60.3° / 41.4°</td>\n",
              "      <td>35.7</td>\n",
              "      <td>178942.0</td>\n",
              "      <td>36.0 inches</td>\n",
              "      <td>0.024</td>\n",
              "      <td>857</td>\n",
              "      <td>20.3 minutes</td>\n",
              "      <td>0.463</td>\n",
              "      <td>35000.0</td>\n",
              "      <td>2202.0</td>\n",
              "      <td>370.8</td>\n",
              "      <td>2452.3</td>\n",
              "      <td>https://realestate.usnews.com/places/iowa/des-...</td>\n",
              "    </tr>\n",
              "    <tr>\n",
              "      <th>...</th>\n",
              "      <td>...</td>\n",
              "      <td>...</td>\n",
              "      <td>...</td>\n",
              "      <td>...</td>\n",
              "      <td>...</td>\n",
              "      <td>...</td>\n",
              "      <td>...</td>\n",
              "      <td>...</td>\n",
              "      <td>...</td>\n",
              "      <td>...</td>\n",
              "      <td>...</td>\n",
              "      <td>...</td>\n",
              "      <td>...</td>\n",
              "      <td>...</td>\n",
              "      <td>...</td>\n",
              "      <td>...</td>\n",
              "      <td>...</td>\n",
              "      <td>...</td>\n",
              "    </tr>\n",
              "    <tr>\n",
              "      <th>120</th>\n",
              "      <td>121</td>\n",
              "      <td>Mobile</td>\n",
              "      <td>AL</td>\n",
              "      <td>414328</td>\n",
              "      <td>43830</td>\n",
              "      <td>NaN</td>\n",
              "      <td>37.3</td>\n",
              "      <td>126976.0</td>\n",
              "      <td>NaN</td>\n",
              "      <td>0.047</td>\n",
              "      <td>828</td>\n",
              "      <td>24.8 minutes</td>\n",
              "      <td>0.526</td>\n",
              "      <td>26530.0</td>\n",
              "      <td>1631.0</td>\n",
              "      <td>619.0</td>\n",
              "      <td>4539.6</td>\n",
              "      <td>https://realestate.usnews.com/places/alabama/m...</td>\n",
              "    </tr>\n",
              "    <tr>\n",
              "      <th>121</th>\n",
              "      <td>122</td>\n",
              "      <td>Shreveport</td>\n",
              "      <td>LA</td>\n",
              "      <td>443974</td>\n",
              "      <td>39400</td>\n",
              "      <td>NaN</td>\n",
              "      <td>36.7</td>\n",
              "      <td>NaN</td>\n",
              "      <td>NaN</td>\n",
              "      <td>0.052</td>\n",
              "      <td>789</td>\n",
              "      <td>21.9 minutes</td>\n",
              "      <td>0.540</td>\n",
              "      <td>27327.0</td>\n",
              "      <td>1829.0</td>\n",
              "      <td>606.9</td>\n",
              "      <td>3832.4</td>\n",
              "      <td>https://realestate.usnews.com/places/louisiana...</td>\n",
              "    </tr>\n",
              "    <tr>\n",
              "      <th>122</th>\n",
              "      <td>123</td>\n",
              "      <td>Stockton</td>\n",
              "      <td>CA</td>\n",
              "      <td>724153</td>\n",
              "      <td>46770</td>\n",
              "      <td>74.3° / 48.3°</td>\n",
              "      <td>33.9</td>\n",
              "      <td>352350.0</td>\n",
              "      <td>14.1 inches</td>\n",
              "      <td>0.059</td>\n",
              "      <td>1100</td>\n",
              "      <td>32.0 minutes</td>\n",
              "      <td>0.497</td>\n",
              "      <td>51627.0</td>\n",
              "      <td>2427.0</td>\n",
              "      <td>808.6</td>\n",
              "      <td>2935.7</td>\n",
              "      <td>https://realestate.usnews.com/places/californi...</td>\n",
              "    </tr>\n",
              "    <tr>\n",
              "      <th>123</th>\n",
              "      <td>124</td>\n",
              "      <td>Bakersfield</td>\n",
              "      <td>CA</td>\n",
              "      <td>878744</td>\n",
              "      <td>47680</td>\n",
              "      <td>76.8° / 53.5°</td>\n",
              "      <td>31.3</td>\n",
              "      <td>226908.0</td>\n",
              "      <td>6.5 inches</td>\n",
              "      <td>0.080</td>\n",
              "      <td>933</td>\n",
              "      <td>23.4 minutes</td>\n",
              "      <td>0.506</td>\n",
              "      <td>58261.0</td>\n",
              "      <td>2435.0</td>\n",
              "      <td>559.8</td>\n",
              "      <td>3246.6</td>\n",
              "      <td>https://realestate.usnews.com/places/californi...</td>\n",
              "    </tr>\n",
              "    <tr>\n",
              "      <th>124</th>\n",
              "      <td>125</td>\n",
              "      <td>San Juan</td>\n",
              "      <td>PR</td>\n",
              "      <td>2193264</td>\n",
              "      <td>29820</td>\n",
              "      <td>86.6° / 75.4°</td>\n",
              "      <td>39.9</td>\n",
              "      <td>NaN</td>\n",
              "      <td>56.4 inches</td>\n",
              "      <td>0.077</td>\n",
              "      <td>502</td>\n",
              "      <td>31.2 minutes</td>\n",
              "      <td>0.608</td>\n",
              "      <td>NaN</td>\n",
              "      <td>NaN</td>\n",
              "      <td>254.7</td>\n",
              "      <td>1093.9</td>\n",
              "      <td>https://realestate.usnews.com/places/puerto-ri...</td>\n",
              "    </tr>\n",
              "  </tbody>\n",
              "</table>\n",
              "<p>125 rows × 18 columns</p>\n",
              "</div>"
            ],
            "text/plain": [
              "     US News Rank  ...                                               Link\n",
              "0               1  ...  https://realestate.usnews.com/places/texas/austin\n",
              "1               2  ...  https://realestate.usnews.com/places/colorado/...\n",
              "2               3  ...  https://realestate.usnews.com/places/colorado/...\n",
              "3               4  ...  https://realestate.usnews.com/places/arkansas/...\n",
              "4               5  ...  https://realestate.usnews.com/places/iowa/des-...\n",
              "..            ...  ...                                                ...\n",
              "120           121  ...  https://realestate.usnews.com/places/alabama/m...\n",
              "121           122  ...  https://realestate.usnews.com/places/louisiana...\n",
              "122           123  ...  https://realestate.usnews.com/places/californi...\n",
              "123           124  ...  https://realestate.usnews.com/places/californi...\n",
              "124           125  ...  https://realestate.usnews.com/places/puerto-ri...\n",
              "\n",
              "[125 rows x 18 columns]"
            ]
          },
          "metadata": {
            "tags": []
          },
          "execution_count": 67
        }
      ]
    },
    {
      "cell_type": "code",
      "metadata": {
        "id": "QWEBOtkof_B7"
      },
      "source": [
        "# Write the dataframe object\n",
        "# into csv file\n",
        "\n",
        "# Read and store content\n",
        "# of an excel file \n",
        "read_file = pd.read_excel (\"Best US Cities.xlsx\")\n",
        "read_file.to_csv (\"Best US Cities.xlsx.csv\", \n",
        "                  index = None,\n",
        "                  header=True)\n",
        "    \n",
        "# read csv file and convert \n",
        "# into a dataframe object\n",
        "df = pd.DataFrame(pd.read_csv(\"Best US Cities.xlsx.csv\"))\n",
        "  \n",
        "# show the dataframe\n",
        "df.columns = ['US_News_Rank', 'City', 'State', 'Metro_Population',\n",
        "        'Average_Annual_Salary', 'Avg High/Low Temps', 'Median_Age',\n",
        "        'Median_Home_Price', 'AVG_Annual_Rainfall', 'Unemployment_Rate',\n",
        "        'Median_Monthly_Rent', 'Avg_Commute_Time', 'Percent_Single',\n",
        "        'Total_Students', 'Total_Teachers', 'Violent_Crime', 'Property_Crime', 'Link']"
      ],
      "execution_count": null,
      "outputs": []
    },
    {
      "cell_type": "code",
      "metadata": {
        "id": "Bmu7ZLUUhSwO"
      },
      "source": [
        "#df.isnull().sum()\n",
        "# temp: 25 missing\n",
        "# rainfall: 25 missing\n",
        "# home price: 9 missing\n",
        "# total students: 4 missing\n",
        "# total teachers: 4 missing\n",
        "\n",
        "#(to comment out a block of code = control + / )\n"
      ],
      "execution_count": null,
      "outputs": []
    },
    {
      "cell_type": "code",
      "metadata": {
        "id": "5IhUrSPthULz",
        "colab": {
          "base_uri": "https://localhost:8080/",
          "height": 395
        },
        "outputId": "04ad0b11-df62-4edf-e5c1-739fb475304e"
      },
      "source": [
        "\n",
        "df[\"AVG_Annual_Rainfall\"].str.replace(\"inches\",\"\") \n",
        "df[\"Avg_Commute_Time\"] = df[\"Avg_Commute_Time\"].str.replace(\"minutes\", \"\")\n",
        "df.drop(['Total_Students', 'Total_Teachers', 'Link'], axis=1, inplace = True)\n",
        "\n",
        "df[\"STATE\"] = df['State'].str.rjust(4,\"_\")\n",
        "df['City_State'] = df['City'] + df['STATE']\n",
        "df.drop([\"STATE\", \"State\", \"City\"], axis = 1, inplace = True)\n",
        "\n",
        "df.head(2)"
      ],
      "execution_count": null,
      "outputs": [
        {
          "output_type": "error",
          "ename": "AttributeError",
          "evalue": "ignored",
          "traceback": [
            "\u001b[0;31m---------------------------------------------------------------------------\u001b[0m",
            "\u001b[0;31mAttributeError\u001b[0m                            Traceback (most recent call last)",
            "\u001b[0;32m<ipython-input-88-a0c606d4181e>\u001b[0m in \u001b[0;36m<module>\u001b[0;34m()\u001b[0m\n\u001b[1;32m      1\u001b[0m \u001b[0;34m\u001b[0m\u001b[0m\n\u001b[1;32m      2\u001b[0m \u001b[0mdf\u001b[0m\u001b[0;34m[\u001b[0m\u001b[0;34m\"AVG_Annual_Rainfall\"\u001b[0m\u001b[0;34m]\u001b[0m\u001b[0;34m.\u001b[0m\u001b[0mstr\u001b[0m\u001b[0;34m.\u001b[0m\u001b[0mreplace\u001b[0m\u001b[0;34m(\u001b[0m\u001b[0;34m\"inches\"\u001b[0m\u001b[0;34m,\u001b[0m\u001b[0;34m\"\"\u001b[0m\u001b[0;34m)\u001b[0m\u001b[0;34m\u001b[0m\u001b[0;34m\u001b[0m\u001b[0m\n\u001b[0;32m----> 3\u001b[0;31m \u001b[0mdf\u001b[0m\u001b[0;34m[\u001b[0m\u001b[0;34m\"Avg_Commute_Time\"\u001b[0m\u001b[0;34m]\u001b[0m \u001b[0;34m=\u001b[0m \u001b[0mdf\u001b[0m\u001b[0;34m[\u001b[0m\u001b[0;34m\"Avg_Commute_Time\"\u001b[0m\u001b[0;34m]\u001b[0m\u001b[0;34m.\u001b[0m\u001b[0mstr\u001b[0m\u001b[0;34m.\u001b[0m\u001b[0mreplace\u001b[0m\u001b[0;34m(\u001b[0m\u001b[0;34m\"minutes\"\u001b[0m\u001b[0;34m,\u001b[0m \u001b[0;34m\"\"\u001b[0m\u001b[0;34m)\u001b[0m\u001b[0;34m\u001b[0m\u001b[0;34m\u001b[0m\u001b[0m\n\u001b[0m\u001b[1;32m      4\u001b[0m \u001b[0mdf\u001b[0m\u001b[0;34m.\u001b[0m\u001b[0mdrop\u001b[0m\u001b[0;34m(\u001b[0m\u001b[0;34m[\u001b[0m\u001b[0;34m'Total_Students'\u001b[0m\u001b[0;34m,\u001b[0m \u001b[0;34m'Total_Teachers'\u001b[0m\u001b[0;34m,\u001b[0m \u001b[0;34m'Link'\u001b[0m\u001b[0;34m]\u001b[0m\u001b[0;34m,\u001b[0m \u001b[0maxis\u001b[0m\u001b[0;34m=\u001b[0m\u001b[0;36m1\u001b[0m\u001b[0;34m,\u001b[0m \u001b[0minplace\u001b[0m \u001b[0;34m=\u001b[0m \u001b[0;32mTrue\u001b[0m\u001b[0;34m)\u001b[0m\u001b[0;34m\u001b[0m\u001b[0;34m\u001b[0m\u001b[0m\n\u001b[1;32m      5\u001b[0m \u001b[0;34m\u001b[0m\u001b[0m\n",
            "\u001b[0;32m/usr/local/lib/python3.7/dist-packages/pandas/core/generic.py\u001b[0m in \u001b[0;36m__getattr__\u001b[0;34m(self, name)\u001b[0m\n\u001b[1;32m   5135\u001b[0m             \u001b[0;32mor\u001b[0m \u001b[0mname\u001b[0m \u001b[0;32min\u001b[0m \u001b[0mself\u001b[0m\u001b[0;34m.\u001b[0m\u001b[0m_accessors\u001b[0m\u001b[0;34m\u001b[0m\u001b[0;34m\u001b[0m\u001b[0m\n\u001b[1;32m   5136\u001b[0m         ):\n\u001b[0;32m-> 5137\u001b[0;31m             \u001b[0;32mreturn\u001b[0m \u001b[0mobject\u001b[0m\u001b[0;34m.\u001b[0m\u001b[0m__getattribute__\u001b[0m\u001b[0;34m(\u001b[0m\u001b[0mself\u001b[0m\u001b[0;34m,\u001b[0m \u001b[0mname\u001b[0m\u001b[0;34m)\u001b[0m\u001b[0;34m\u001b[0m\u001b[0;34m\u001b[0m\u001b[0m\n\u001b[0m\u001b[1;32m   5138\u001b[0m         \u001b[0;32melse\u001b[0m\u001b[0;34m:\u001b[0m\u001b[0;34m\u001b[0m\u001b[0;34m\u001b[0m\u001b[0m\n\u001b[1;32m   5139\u001b[0m             \u001b[0;32mif\u001b[0m \u001b[0mself\u001b[0m\u001b[0;34m.\u001b[0m\u001b[0m_info_axis\u001b[0m\u001b[0;34m.\u001b[0m\u001b[0m_can_hold_identifiers_and_holds_name\u001b[0m\u001b[0;34m(\u001b[0m\u001b[0mname\u001b[0m\u001b[0;34m)\u001b[0m\u001b[0;34m:\u001b[0m\u001b[0;34m\u001b[0m\u001b[0;34m\u001b[0m\u001b[0m\n",
            "\u001b[0;32m/usr/local/lib/python3.7/dist-packages/pandas/core/accessor.py\u001b[0m in \u001b[0;36m__get__\u001b[0;34m(self, obj, cls)\u001b[0m\n\u001b[1;32m    185\u001b[0m             \u001b[0;31m# we're accessing the attribute of the class, i.e., Dataset.geo\u001b[0m\u001b[0;34m\u001b[0m\u001b[0;34m\u001b[0m\u001b[0;34m\u001b[0m\u001b[0m\n\u001b[1;32m    186\u001b[0m             \u001b[0;32mreturn\u001b[0m \u001b[0mself\u001b[0m\u001b[0;34m.\u001b[0m\u001b[0m_accessor\u001b[0m\u001b[0;34m\u001b[0m\u001b[0;34m\u001b[0m\u001b[0m\n\u001b[0;32m--> 187\u001b[0;31m         \u001b[0maccessor_obj\u001b[0m \u001b[0;34m=\u001b[0m \u001b[0mself\u001b[0m\u001b[0;34m.\u001b[0m\u001b[0m_accessor\u001b[0m\u001b[0;34m(\u001b[0m\u001b[0mobj\u001b[0m\u001b[0;34m)\u001b[0m\u001b[0;34m\u001b[0m\u001b[0;34m\u001b[0m\u001b[0m\n\u001b[0m\u001b[1;32m    188\u001b[0m         \u001b[0;31m# Replace the property with the accessor object. Inspired by:\u001b[0m\u001b[0;34m\u001b[0m\u001b[0;34m\u001b[0m\u001b[0;34m\u001b[0m\u001b[0m\n\u001b[1;32m    189\u001b[0m         \u001b[0;31m# https://www.pydanny.com/cached-property.html\u001b[0m\u001b[0;34m\u001b[0m\u001b[0;34m\u001b[0m\u001b[0;34m\u001b[0m\u001b[0m\n",
            "\u001b[0;32m/usr/local/lib/python3.7/dist-packages/pandas/core/strings.py\u001b[0m in \u001b[0;36m__init__\u001b[0;34m(self, data)\u001b[0m\n\u001b[1;32m   2098\u001b[0m \u001b[0;34m\u001b[0m\u001b[0m\n\u001b[1;32m   2099\u001b[0m     \u001b[0;32mdef\u001b[0m \u001b[0m__init__\u001b[0m\u001b[0;34m(\u001b[0m\u001b[0mself\u001b[0m\u001b[0;34m,\u001b[0m \u001b[0mdata\u001b[0m\u001b[0;34m)\u001b[0m\u001b[0;34m:\u001b[0m\u001b[0;34m\u001b[0m\u001b[0;34m\u001b[0m\u001b[0m\n\u001b[0;32m-> 2100\u001b[0;31m         \u001b[0mself\u001b[0m\u001b[0;34m.\u001b[0m\u001b[0m_inferred_dtype\u001b[0m \u001b[0;34m=\u001b[0m \u001b[0mself\u001b[0m\u001b[0;34m.\u001b[0m\u001b[0m_validate\u001b[0m\u001b[0;34m(\u001b[0m\u001b[0mdata\u001b[0m\u001b[0;34m)\u001b[0m\u001b[0;34m\u001b[0m\u001b[0;34m\u001b[0m\u001b[0m\n\u001b[0m\u001b[1;32m   2101\u001b[0m         \u001b[0mself\u001b[0m\u001b[0;34m.\u001b[0m\u001b[0m_is_categorical\u001b[0m \u001b[0;34m=\u001b[0m \u001b[0mis_categorical_dtype\u001b[0m\u001b[0;34m(\u001b[0m\u001b[0mdata\u001b[0m\u001b[0;34m.\u001b[0m\u001b[0mdtype\u001b[0m\u001b[0;34m)\u001b[0m\u001b[0;34m\u001b[0m\u001b[0;34m\u001b[0m\u001b[0m\n\u001b[1;32m   2102\u001b[0m         \u001b[0mself\u001b[0m\u001b[0;34m.\u001b[0m\u001b[0m_is_string\u001b[0m \u001b[0;34m=\u001b[0m \u001b[0mdata\u001b[0m\u001b[0;34m.\u001b[0m\u001b[0mdtype\u001b[0m\u001b[0;34m.\u001b[0m\u001b[0mname\u001b[0m \u001b[0;34m==\u001b[0m \u001b[0;34m\"string\"\u001b[0m\u001b[0;34m\u001b[0m\u001b[0;34m\u001b[0m\u001b[0m\n",
            "\u001b[0;32m/usr/local/lib/python3.7/dist-packages/pandas/core/strings.py\u001b[0m in \u001b[0;36m_validate\u001b[0;34m(data)\u001b[0m\n\u001b[1;32m   2155\u001b[0m \u001b[0;34m\u001b[0m\u001b[0m\n\u001b[1;32m   2156\u001b[0m         \u001b[0;32mif\u001b[0m \u001b[0minferred_dtype\u001b[0m \u001b[0;32mnot\u001b[0m \u001b[0;32min\u001b[0m \u001b[0mallowed_types\u001b[0m\u001b[0;34m:\u001b[0m\u001b[0;34m\u001b[0m\u001b[0;34m\u001b[0m\u001b[0m\n\u001b[0;32m-> 2157\u001b[0;31m             \u001b[0;32mraise\u001b[0m \u001b[0mAttributeError\u001b[0m\u001b[0;34m(\u001b[0m\u001b[0;34m\"Can only use .str accessor with string values!\"\u001b[0m\u001b[0;34m)\u001b[0m\u001b[0;34m\u001b[0m\u001b[0;34m\u001b[0m\u001b[0m\n\u001b[0m\u001b[1;32m   2158\u001b[0m         \u001b[0;32mreturn\u001b[0m \u001b[0minferred_dtype\u001b[0m\u001b[0;34m\u001b[0m\u001b[0;34m\u001b[0m\u001b[0m\n\u001b[1;32m   2159\u001b[0m \u001b[0;34m\u001b[0m\u001b[0m\n",
            "\u001b[0;31mAttributeError\u001b[0m: Can only use .str accessor with string values!"
          ]
        }
      ]
    },
    {
      "cell_type": "code",
      "metadata": {
        "id": "KF4rR60CiCds"
      },
      "source": [
        "#pulls out all rows with null values\n",
        "abc = df[df.isnull().any(axis=1)]\n",
        "abc.head(30)  "
      ],
      "execution_count": null,
      "outputs": []
    },
    {
      "cell_type": "code",
      "metadata": {
        "colab": {
          "base_uri": "https://localhost:8080/"
        },
        "id": "xKdyUyhO6z0t",
        "outputId": "2b577e81-f6fd-4761-e843-ff526adec0c6"
      },
      "source": [
        "df[\"Avg_High_Temp\"] = df[\"Avg High/Low Temps\"].str[:4]\n",
        "df[\"Avg_Low_Temp\"] = df[\"Avg High/Low Temps\"].str[-5:-1]\n",
        "df.drop([\"Avg High/Low Temps\"], axis = 1, inplace = True)\n",
        "\n",
        "df[df.isnull().any(axis=1)].index\n"
      ],
      "execution_count": null,
      "outputs": [
        {
          "output_type": "execute_result",
          "data": {
            "text/plain": [
              "Int64Index([ 10,  15,  28,  32,  36,  39,  40,  42,  69,  72,  74,  76,  77,\n",
              "             79,  83,  86,  95, 100, 104, 107, 110, 111, 114, 115, 116, 120,\n",
              "            121, 124],\n",
              "           dtype='int64')"
            ]
          },
          "metadata": {
            "tags": []
          },
          "execution_count": 73
        }
      ]
    },
    {
      "cell_type": "code",
      "metadata": {
        "id": "Kf6TJmoaSD0b"
      },
      "source": [
        "# sif = [10,  15,  28,  32,  36,  39,  40,  42,  69,  72,  74,  76,  77,\n",
        "#              79,  83,  86,  95, 100, 104, 107, 114, 115, 116, 120, 121]\n",
        "# for x in sif:\n",
        "#    print(DF.loc[x, \"City_State\"]) \n",
        "\n",
        "df.loc[10, \"Avg_High_Temp\"] = 73\n",
        "df.loc[15, \"Avg_High_Temp\"] = 67\n",
        "df.loc[28, \"Avg_High_Temp\"] = 69.8\n",
        "df.loc[32, \"Avg_High_Temp\"] = 67\n",
        "df.loc[36, \"Avg_High_Temp\"] = 77\n",
        "df.loc[39, \"Avg_High_Temp\"] = 60\n",
        "df.loc[40, \"Avg_High_Temp\"] = 57\n",
        "df.loc[42, \"Avg_High_Temp\"] = 58\n",
        "df.loc[69, \"Avg_High_Temp\"] = 44\n",
        "df.loc[72, \"Avg_High_Temp\"] = 70\n",
        "df.loc[74, \"Avg_High_Temp\"] = \"\"\n",
        "df.loc[76, \"Avg_High_Temp\"] = 64\n",
        "df.loc[77, \"Avg_High_Temp\"] = \"\"\n",
        "df.loc[79, \"Avg_High_Temp\"] = 67\n",
        "df.loc[83, \"Avg_High_Temp\"] = 62\n",
        "df.loc[86, \"Avg_High_Temp\"] = 64\n",
        "df.loc[95, \"Avg_High_Temp\"] = 79\n",
        "df.loc[100, \"Avg_High_Temp\"] = 78\n",
        "df.loc[104, \"Avg_High_Temp\"] = 82\n",
        "df.loc[107, \"Avg_High_Temp\"] = 78\n",
        "df.loc[114, \"Avg_High_Temp\"] = 57\n",
        "df.loc[115, \"Avg_High_Temp\"] = 84\n",
        "df.loc[116, \"Avg_High_Temp\"] = 68\n",
        "df.loc[120, \"Avg_High_Temp\"] = 77\n",
        "df.loc[121, \"Avg_High_Temp\"] = 77\n",
        "\n",
        "# Huntsville__AL\n",
        "# Asheville__NC\n",
        "# Lexington-Fayette__KY\n",
        "# Reno__NV\n",
        "# Pensacola__FL\n",
        "# Fort Wayne__IN\n",
        "# Lansing__MI\n",
        "# Manchester__NH\n",
        "# Anchorage__AK\n",
        "# Santa Barbara__CA\n",
        "# Myrtle Beach__SC\n",
        "# Salem__OR\n",
        "# Port St. Lucie__FL\n",
        "# Springfield__MO\n",
        "# Reading__PA\n",
        "# York__PA\n",
        "# Lafayette__LA\n",
        "# Killeen__TX\n",
        "# Corpus Christi__TX\n",
        "# Beaumont__TX\n",
        "# Flint__MI\n",
        "# Brownsville__TX\n",
        "# Salinas__CA\n",
        "# Mobile__AL\n",
        "# Shreveport__LA\n"
      ],
      "execution_count": null,
      "outputs": []
    },
    {
      "cell_type": "code",
      "metadata": {
        "id": "RGGuhpAPLMtg"
      },
      "source": [
        "df.loc[10, \"Avg_Low_Temp\"] = 51\n",
        "df.loc[15, \"Avg_Low_Temp\"] = 46\n",
        "df.loc[28, \"Avg_Low_Temp\"] = 49.2\n",
        "df.loc[32, \"Avg_Low_Temp\"] = 40\n",
        "df.loc[36, \"Avg_Low_Temp\"] = 59\n",
        "df.loc[39, \"Avg_Low_Temp\"] = 41\n",
        "df.loc[40, \"Avg_Low_Temp\"] = 39\n",
        "df.loc[42, \"Avg_Low_Temp\"] = 38\n",
        "df.loc[69, \"Avg_Low_Temp\"] = 30\n",
        "df.loc[72, \"Avg_Low_Temp\"] = 53\n",
        "df.loc[74, \"Avg_Low_Temp\"] = 55\n",
        "df.loc[76, \"Avg_Low_Temp\"] = 42\n",
        "df.loc[77, \"Avg_Low_Temp\"] = 55\n",
        "df.loc[79, \"Avg_Low_Temp\"] = 45\n",
        "df.loc[83, \"Avg_Low_Temp\"] = 43\n",
        "df.loc[86, \"Avg_Low_Temp\"] = 42\n",
        "df.loc[95, \"Avg_Low_Temp\"] = 60\n",
        "df.loc[100, \"Avg_Low_Temp\"] = 54\n",
        "df.loc[104, \"Avg_Low_Temp\"] = 63\n",
        "df.loc[107, \"Avg_Low_Temp\"] = 59\n",
        "df.loc[114, \"Avg_Low_Temp\"] = 38\n",
        "df.loc[115, \"Avg_Low_Temp\"] = 65\n",
        "df.loc[116, \"Avg_Low_Temp\"] = 47\n",
        "df.loc[120, \"Avg_Low_Temp\"] = 57\n",
        "df.loc[121, \"Avg_Low_Temp\"] = 55"
      ],
      "execution_count": null,
      "outputs": []
    },
    {
      "cell_type": "code",
      "metadata": {
        "id": "ZHpks-JkHLRa"
      },
      "source": [
        "#DF=df.copy()\n",
        "df.loc[10, \"AVG Annual Rainfall\"] = 55\n",
        "df.loc[15, \"AVG Annual Rainfall\"] = 43.7\n",
        "df.loc[28, \"AVG Annual Rainfall\"] = 46.2\n",
        "df.loc[32, \"AVG Annual Rainfall\"] = 8.9\n",
        "df.loc[36, \"AVG Annual Rainfall\"] = 64.4\n",
        "df.loc[39, \"AVG Annual Rainfall\"] = 38.1\n",
        "df.loc[40, \"AVG Annual Rainfall\"] = 44\n",
        "df.loc[42, \"AVG Annual Rainfall\"] = 33\n",
        "df.loc[68, \"AVG Annual Rainfall\"] = 40.4\n",
        "df.loc[69, \"AVG Annual Rainfall\"] = 16.6\n",
        "df.loc[72, \"AVG Annual Rainfall\"] = 18.5\n",
        "df.loc[74, \"AVG Annual Rainfall\"] = 51.9\n",
        "df.loc[76, \"AVG Annual Rainfall\"] = 44.9\n",
        "df.loc[77, \"AVG Annual Rainfall\"] = 58.3\n",
        "df.loc[79, \"AVG Annual Rainfall\"] = 45.1\n",
        "df.loc[83, \"AVG Annual Rainfall\"] = 45\n",
        "df.loc[86, \"AVG Annual Rainfall\"] = 41.9\n",
        "df.loc[95, \"AVG Annual Rainfall\"] = 61\n",
        "df.loc[100, \"AVG Annual Rainfall\"] = 32.8\n",
        "df.loc[104, \"AVG Annual Rainfall\"] = 33\n",
        "df.loc[107, \"AVG Annual Rainfall\"] = 65\n",
        "df.loc[114, \"AVG Annual Rainfall\"] = 32\n",
        "df.loc[115, \"AVG Annual Rainfall\"] = 25.6\n",
        "df.loc[116, \"AVG Annual Rainfall\"] = 15.3\n",
        "df.loc[120, \"AVG Annual Rainfall\"] = 66.4\n",
        "df.loc[121, \"AVG Annual Rainfall\"] = 51.3\n"
      ],
      "execution_count": null,
      "outputs": []
    },
    {
      "cell_type": "code",
      "metadata": {
        "id": "NBymaKLBUNnW"
      },
      "source": [
        "#DF[DF['Median Home Price'].isna()]\n",
        "# 28,79,104,107,110,111,115,121,124,\n",
        "\n",
        "# list = [28,79,104,107,110,111,115,121,124]\n",
        "\n",
        "# for x in list:\n",
        "#   print(DF.loc[x, \"City_State\"]) \n",
        "  \n",
        "# #240302, 175958, 189464, 119200, 66445, 167486, 131195, 120383, 175000\n"
      ],
      "execution_count": null,
      "outputs": []
    },
    {
      "cell_type": "code",
      "metadata": {
        "id": "13G5-Gam3S28"
      },
      "source": [
        "df.loc[28, \"Median Home Price\"] = 240302\n",
        "df.loc[79, \"Median Home Price\"] = 175958\n",
        "df.loc[104, \"Median Home Price\"] = 189464\n",
        "df.loc[107, \"Median Home Price\"] = 119200\n",
        "df.loc[110, \"Median Home Price\"] = 66445\n",
        "df.loc[111, \"Median Home Price\"] = 167486\n",
        "df.loc[115, \"Median Home Price\"] = 131195\n",
        "df.loc[121, \"Median Home Price\"] = 120383\n",
        "df.loc[124, \"Median Home Price\"] = 175000"
      ],
      "execution_count": null,
      "outputs": []
    },
    {
      "cell_type": "code",
      "metadata": {
        "id": "J_rX3q6QWTx8",
        "colab": {
          "base_uri": "https://localhost:8080/"
        },
        "outputId": "02b05804-0278-4a81-a76f-7c536d7a40ec"
      },
      "source": [
        "df[\"1st_or_2nd\"] = pd.Series()\n",
        "\n",
        "df.loc[df[\"US News Rank\"] < 63, \"1st_or_2nd\"] = 1\n",
        "df.loc[df[\"US News Rank\"] > 62, \"1st_or_2nd\"] = 2\n",
        " "
      ],
      "execution_count": null,
      "outputs": [
        {
          "output_type": "stream",
          "text": [
            "/usr/local/lib/python3.7/dist-packages/ipykernel_launcher.py:1: DeprecationWarning: The default dtype for empty Series will be 'object' instead of 'float64' in a future version. Specify a dtype explicitly to silence this warning.\n",
            "  \"\"\"Entry point for launching an IPython kernel.\n"
          ],
          "name": "stderr"
        }
      ]
    },
    {
      "cell_type": "code",
      "metadata": {
        "colab": {
          "base_uri": "https://localhost:8080/",
          "height": 166
        },
        "id": "A3TIfmcIHH3N",
        "outputId": "6e0daec2-2b23-47ae-8ba4-bda3bfe95a90"
      },
      "source": [
        "df.head(2) "
      ],
      "execution_count": null,
      "outputs": [
        {
          "output_type": "execute_result",
          "data": {
            "text/html": [
              "<div>\n",
              "<style scoped>\n",
              "    .dataframe tbody tr th:only-of-type {\n",
              "        vertical-align: middle;\n",
              "    }\n",
              "\n",
              "    .dataframe tbody tr th {\n",
              "        vertical-align: top;\n",
              "    }\n",
              "\n",
              "    .dataframe thead th {\n",
              "        text-align: right;\n",
              "    }\n",
              "</style>\n",
              "<table border=\"1\" class=\"dataframe\">\n",
              "  <thead>\n",
              "    <tr style=\"text-align: right;\">\n",
              "      <th></th>\n",
              "      <th>US News Rank</th>\n",
              "      <th>Metro Population</th>\n",
              "      <th>Average Annual Salary</th>\n",
              "      <th>Median Age</th>\n",
              "      <th>Median Home Price</th>\n",
              "      <th>AVG Annual Rainfall</th>\n",
              "      <th>Unemployment Rate</th>\n",
              "      <th>Median Monthly Rent</th>\n",
              "      <th>Avg Commute Time</th>\n",
              "      <th>Percent Single</th>\n",
              "      <th>Violent crime</th>\n",
              "      <th>Property Crime</th>\n",
              "      <th>City_State</th>\n",
              "      <th>Avg_High_Temp</th>\n",
              "      <th>Avg_Low_Temp</th>\n",
              "      <th>1st_or_2nd</th>\n",
              "    </tr>\n",
              "  </thead>\n",
              "  <tbody>\n",
              "    <tr>\n",
              "      <th>0</th>\n",
              "      <td>1</td>\n",
              "      <td>2000590</td>\n",
              "      <td>51840</td>\n",
              "      <td>34.2</td>\n",
              "      <td>292500.0</td>\n",
              "      <td>32.2</td>\n",
              "      <td>0.029</td>\n",
              "      <td>1155</td>\n",
              "      <td>26.8</td>\n",
              "      <td>0.508</td>\n",
              "      <td>306.3</td>\n",
              "      <td>2343.4</td>\n",
              "      <td>Austin__TX</td>\n",
              "      <td>79.7</td>\n",
              "      <td>54.8</td>\n",
              "      <td>1.0</td>\n",
              "    </tr>\n",
              "    <tr>\n",
              "      <th>1</th>\n",
              "      <td>2</td>\n",
              "      <td>2798684</td>\n",
              "      <td>57400</td>\n",
              "      <td>36.3</td>\n",
              "      <td>393842.0</td>\n",
              "      <td>14.3</td>\n",
              "      <td>0.030</td>\n",
              "      <td>1203</td>\n",
              "      <td>27.5</td>\n",
              "      <td>0.486</td>\n",
              "      <td>413.9</td>\n",
              "      <td>1600.9</td>\n",
              "      <td>Denver__CO</td>\n",
              "      <td>64.6</td>\n",
              "      <td>36.2</td>\n",
              "      <td>1.0</td>\n",
              "    </tr>\n",
              "  </tbody>\n",
              "</table>\n",
              "</div>"
            ],
            "text/plain": [
              "   US News Rank  Metro Population  ...  Avg_Low_Temp  1st_or_2nd\n",
              "0             1           2000590  ...          54.8         1.0\n",
              "1             2           2798684  ...          36.2         1.0\n",
              "\n",
              "[2 rows x 16 columns]"
            ]
          },
          "metadata": {
            "tags": []
          },
          "execution_count": 45
        }
      ]
    },
    {
      "cell_type": "code",
      "metadata": {
        "id": "cmT-mbaBYfET",
        "colab": {
          "base_uri": "https://localhost:8080/",
          "height": 376
        },
        "outputId": "24998c62-bb69-45d9-d0cd-e7cdad6b5f86"
      },
      "source": [
        "df.set_index('City_State', inplace=True) \n",
        "df.drop(labels = \"US News Rank\", axis =1, inplace = True)\n",
        "\n",
        "df.head(2) "
      ],
      "execution_count": null,
      "outputs": [
        {
          "output_type": "error",
          "ename": "KeyError",
          "evalue": "ignored",
          "traceback": [
            "\u001b[0;31m---------------------------------------------------------------------------\u001b[0m",
            "\u001b[0;31mKeyError\u001b[0m                                  Traceback (most recent call last)",
            "\u001b[0;32m<ipython-input-78-d12fb424fb8d>\u001b[0m in \u001b[0;36m<module>\u001b[0;34m()\u001b[0m\n\u001b[1;32m      1\u001b[0m \u001b[0mdf\u001b[0m\u001b[0;34m.\u001b[0m\u001b[0mset_index\u001b[0m\u001b[0;34m(\u001b[0m\u001b[0;34m'City_State'\u001b[0m\u001b[0;34m,\u001b[0m \u001b[0minplace\u001b[0m\u001b[0;34m=\u001b[0m\u001b[0;32mTrue\u001b[0m\u001b[0;34m)\u001b[0m\u001b[0;34m\u001b[0m\u001b[0;34m\u001b[0m\u001b[0m\n\u001b[0;32m----> 2\u001b[0;31m \u001b[0mdf\u001b[0m\u001b[0;34m.\u001b[0m\u001b[0mdrop\u001b[0m\u001b[0;34m(\u001b[0m\u001b[0mlabels\u001b[0m \u001b[0;34m=\u001b[0m \u001b[0;34m\"US News Rank\"\u001b[0m\u001b[0;34m,\u001b[0m \u001b[0maxis\u001b[0m \u001b[0;34m=\u001b[0m\u001b[0;36m1\u001b[0m\u001b[0;34m,\u001b[0m \u001b[0minplace\u001b[0m \u001b[0;34m=\u001b[0m \u001b[0;32mTrue\u001b[0m\u001b[0;34m)\u001b[0m\u001b[0;34m\u001b[0m\u001b[0;34m\u001b[0m\u001b[0m\n\u001b[0m\u001b[1;32m      3\u001b[0m \u001b[0;34m\u001b[0m\u001b[0m\n\u001b[1;32m      4\u001b[0m \u001b[0mdf\u001b[0m\u001b[0;34m.\u001b[0m\u001b[0mhead\u001b[0m\u001b[0;34m(\u001b[0m\u001b[0;36m2\u001b[0m\u001b[0;34m)\u001b[0m\u001b[0;34m\u001b[0m\u001b[0;34m\u001b[0m\u001b[0m\n",
            "\u001b[0;32m/usr/local/lib/python3.7/dist-packages/pandas/core/frame.py\u001b[0m in \u001b[0;36mdrop\u001b[0;34m(self, labels, axis, index, columns, level, inplace, errors)\u001b[0m\n\u001b[1;32m   4172\u001b[0m             \u001b[0mlevel\u001b[0m\u001b[0;34m=\u001b[0m\u001b[0mlevel\u001b[0m\u001b[0;34m,\u001b[0m\u001b[0;34m\u001b[0m\u001b[0;34m\u001b[0m\u001b[0m\n\u001b[1;32m   4173\u001b[0m             \u001b[0minplace\u001b[0m\u001b[0;34m=\u001b[0m\u001b[0minplace\u001b[0m\u001b[0;34m,\u001b[0m\u001b[0;34m\u001b[0m\u001b[0;34m\u001b[0m\u001b[0m\n\u001b[0;32m-> 4174\u001b[0;31m             \u001b[0merrors\u001b[0m\u001b[0;34m=\u001b[0m\u001b[0merrors\u001b[0m\u001b[0;34m,\u001b[0m\u001b[0;34m\u001b[0m\u001b[0;34m\u001b[0m\u001b[0m\n\u001b[0m\u001b[1;32m   4175\u001b[0m         )\n\u001b[1;32m   4176\u001b[0m \u001b[0;34m\u001b[0m\u001b[0m\n",
            "\u001b[0;32m/usr/local/lib/python3.7/dist-packages/pandas/core/generic.py\u001b[0m in \u001b[0;36mdrop\u001b[0;34m(self, labels, axis, index, columns, level, inplace, errors)\u001b[0m\n\u001b[1;32m   3887\u001b[0m         \u001b[0;32mfor\u001b[0m \u001b[0maxis\u001b[0m\u001b[0;34m,\u001b[0m \u001b[0mlabels\u001b[0m \u001b[0;32min\u001b[0m \u001b[0maxes\u001b[0m\u001b[0;34m.\u001b[0m\u001b[0mitems\u001b[0m\u001b[0;34m(\u001b[0m\u001b[0;34m)\u001b[0m\u001b[0;34m:\u001b[0m\u001b[0;34m\u001b[0m\u001b[0;34m\u001b[0m\u001b[0m\n\u001b[1;32m   3888\u001b[0m             \u001b[0;32mif\u001b[0m \u001b[0mlabels\u001b[0m \u001b[0;32mis\u001b[0m \u001b[0;32mnot\u001b[0m \u001b[0;32mNone\u001b[0m\u001b[0;34m:\u001b[0m\u001b[0;34m\u001b[0m\u001b[0;34m\u001b[0m\u001b[0m\n\u001b[0;32m-> 3889\u001b[0;31m                 \u001b[0mobj\u001b[0m \u001b[0;34m=\u001b[0m \u001b[0mobj\u001b[0m\u001b[0;34m.\u001b[0m\u001b[0m_drop_axis\u001b[0m\u001b[0;34m(\u001b[0m\u001b[0mlabels\u001b[0m\u001b[0;34m,\u001b[0m \u001b[0maxis\u001b[0m\u001b[0;34m,\u001b[0m \u001b[0mlevel\u001b[0m\u001b[0;34m=\u001b[0m\u001b[0mlevel\u001b[0m\u001b[0;34m,\u001b[0m \u001b[0merrors\u001b[0m\u001b[0;34m=\u001b[0m\u001b[0merrors\u001b[0m\u001b[0;34m)\u001b[0m\u001b[0;34m\u001b[0m\u001b[0;34m\u001b[0m\u001b[0m\n\u001b[0m\u001b[1;32m   3890\u001b[0m \u001b[0;34m\u001b[0m\u001b[0m\n\u001b[1;32m   3891\u001b[0m         \u001b[0;32mif\u001b[0m \u001b[0minplace\u001b[0m\u001b[0;34m:\u001b[0m\u001b[0;34m\u001b[0m\u001b[0;34m\u001b[0m\u001b[0m\n",
            "\u001b[0;32m/usr/local/lib/python3.7/dist-packages/pandas/core/generic.py\u001b[0m in \u001b[0;36m_drop_axis\u001b[0;34m(self, labels, axis, level, errors)\u001b[0m\n\u001b[1;32m   3921\u001b[0m                 \u001b[0mnew_axis\u001b[0m \u001b[0;34m=\u001b[0m \u001b[0maxis\u001b[0m\u001b[0;34m.\u001b[0m\u001b[0mdrop\u001b[0m\u001b[0;34m(\u001b[0m\u001b[0mlabels\u001b[0m\u001b[0;34m,\u001b[0m \u001b[0mlevel\u001b[0m\u001b[0;34m=\u001b[0m\u001b[0mlevel\u001b[0m\u001b[0;34m,\u001b[0m \u001b[0merrors\u001b[0m\u001b[0;34m=\u001b[0m\u001b[0merrors\u001b[0m\u001b[0;34m)\u001b[0m\u001b[0;34m\u001b[0m\u001b[0;34m\u001b[0m\u001b[0m\n\u001b[1;32m   3922\u001b[0m             \u001b[0;32melse\u001b[0m\u001b[0;34m:\u001b[0m\u001b[0;34m\u001b[0m\u001b[0;34m\u001b[0m\u001b[0m\n\u001b[0;32m-> 3923\u001b[0;31m                 \u001b[0mnew_axis\u001b[0m \u001b[0;34m=\u001b[0m \u001b[0maxis\u001b[0m\u001b[0;34m.\u001b[0m\u001b[0mdrop\u001b[0m\u001b[0;34m(\u001b[0m\u001b[0mlabels\u001b[0m\u001b[0;34m,\u001b[0m \u001b[0merrors\u001b[0m\u001b[0;34m=\u001b[0m\u001b[0merrors\u001b[0m\u001b[0;34m)\u001b[0m\u001b[0;34m\u001b[0m\u001b[0;34m\u001b[0m\u001b[0m\n\u001b[0m\u001b[1;32m   3924\u001b[0m             \u001b[0mresult\u001b[0m \u001b[0;34m=\u001b[0m \u001b[0mself\u001b[0m\u001b[0;34m.\u001b[0m\u001b[0mreindex\u001b[0m\u001b[0;34m(\u001b[0m\u001b[0;34m**\u001b[0m\u001b[0;34m{\u001b[0m\u001b[0maxis_name\u001b[0m\u001b[0;34m:\u001b[0m \u001b[0mnew_axis\u001b[0m\u001b[0;34m}\u001b[0m\u001b[0;34m)\u001b[0m\u001b[0;34m\u001b[0m\u001b[0;34m\u001b[0m\u001b[0m\n\u001b[1;32m   3925\u001b[0m \u001b[0;34m\u001b[0m\u001b[0m\n",
            "\u001b[0;32m/usr/local/lib/python3.7/dist-packages/pandas/core/indexes/base.py\u001b[0m in \u001b[0;36mdrop\u001b[0;34m(self, labels, errors)\u001b[0m\n\u001b[1;32m   5285\u001b[0m         \u001b[0;32mif\u001b[0m \u001b[0mmask\u001b[0m\u001b[0;34m.\u001b[0m\u001b[0many\u001b[0m\u001b[0;34m(\u001b[0m\u001b[0;34m)\u001b[0m\u001b[0;34m:\u001b[0m\u001b[0;34m\u001b[0m\u001b[0;34m\u001b[0m\u001b[0m\n\u001b[1;32m   5286\u001b[0m             \u001b[0;32mif\u001b[0m \u001b[0merrors\u001b[0m \u001b[0;34m!=\u001b[0m \u001b[0;34m\"ignore\"\u001b[0m\u001b[0;34m:\u001b[0m\u001b[0;34m\u001b[0m\u001b[0;34m\u001b[0m\u001b[0m\n\u001b[0;32m-> 5287\u001b[0;31m                 \u001b[0;32mraise\u001b[0m \u001b[0mKeyError\u001b[0m\u001b[0;34m(\u001b[0m\u001b[0;34mf\"{labels[mask]} not found in axis\"\u001b[0m\u001b[0;34m)\u001b[0m\u001b[0;34m\u001b[0m\u001b[0;34m\u001b[0m\u001b[0m\n\u001b[0m\u001b[1;32m   5288\u001b[0m             \u001b[0mindexer\u001b[0m \u001b[0;34m=\u001b[0m \u001b[0mindexer\u001b[0m\u001b[0;34m[\u001b[0m\u001b[0;34m~\u001b[0m\u001b[0mmask\u001b[0m\u001b[0;34m]\u001b[0m\u001b[0;34m\u001b[0m\u001b[0;34m\u001b[0m\u001b[0m\n\u001b[1;32m   5289\u001b[0m         \u001b[0;32mreturn\u001b[0m \u001b[0mself\u001b[0m\u001b[0;34m.\u001b[0m\u001b[0mdelete\u001b[0m\u001b[0;34m(\u001b[0m\u001b[0mindexer\u001b[0m\u001b[0;34m)\u001b[0m\u001b[0;34m\u001b[0m\u001b[0;34m\u001b[0m\u001b[0m\n",
            "\u001b[0;31mKeyError\u001b[0m: \"['US News Rank'] not found in axis\""
          ]
        }
      ]
    },
    {
      "cell_type": "code",
      "metadata": {
        "id": "qQOTNg__fyJB"
      },
      "source": [
        "#if you want a subset of dataframe with just the index and 1st column \n",
        "\n",
        "#Unique_Rankings = df.iloc[0:125,0:1] "
      ],
      "execution_count": null,
      "outputs": []
    },
    {
      "cell_type": "code",
      "metadata": {
        "id": "aXvGeltgkPYI"
      },
      "source": [
        "target = \"1st_or_2nd\"\n",
        "features = df.columns.drop([target]) \n",
        "X = df[features]\n",
        "y = df[target]"
      ],
      "execution_count": null,
      "outputs": []
    },
    {
      "cell_type": "code",
      "metadata": {
        "id": "kbg_mY0_h5N5"
      },
      "source": [
        "X_train, X_test, y_train, y_test = train_test_split(X,y, train_size=0.95, random_state=42)"
      ],
      "execution_count": null,
      "outputs": []
    },
    {
      "cell_type": "code",
      "metadata": {
        "id": "Pt6FcrXNjgqq",
        "colab": {
          "base_uri": "https://localhost:8080/"
        },
        "outputId": "fbc38770-0b9b-43c7-b763-9ce817052531"
      },
      "source": [
        "y_test"
      ],
      "execution_count": null,
      "outputs": [
        {
          "output_type": "execute_result",
          "data": {
            "text/plain": [
              "City_State\n",
              "Washington, D.C.__DC    1.0\n",
              "Manchester__NH          1.0\n",
              "Pensacola__FL           1.0\n",
              "Salem__OR               2.0\n",
              "Syracuse__NY            1.0\n",
              "Detroit__MI             2.0\n",
              "Atlanta__GA             1.0\n",
              "Name: 1st_or_2nd, dtype: float64"
            ]
          },
          "metadata": {
            "tags": []
          },
          "execution_count": 81
        }
      ]
    },
    {
      "cell_type": "code",
      "metadata": {
        "colab": {
          "base_uri": "https://localhost:8080/"
        },
        "id": "HJZvI3Pbzp4k",
        "outputId": "cc0e4d39-7c4f-4c22-f6bb-bfa1368968e4"
      },
      "source": [
        "df[\"Avg_High_Temp\"].tail(60)"
      ],
      "execution_count": null,
      "outputs": [
        {
          "output_type": "execute_result",
          "data": {
            "text/plain": [
              "City_State\n",
              "Greensboro__NC        69.2\n",
              "Columbia__SC          75.6\n",
              "Oklahoma City__OK     72.2\n",
              "Dayton__OH            61.0\n",
              "Anchorage__AK           44\n",
              "Las Vegas__NV         80.0\n",
              "Augusta__GA           76.8\n",
              "Santa Barbara__CA       70\n",
              "Santa Rosa__CA        71.0\n",
              "Myrtle Beach__SC          \n",
              "Tucson__AZ            83.1\n",
              "Salem__OR               64\n",
              "Port St. Lucie__FL        \n",
              "Wichita__KS           67.6\n",
              "Springfield__MO         67\n",
              "St. Louis__MO         66.1\n",
              "Sacramento__CA        73.8\n",
              "Tulsa__OK             71.3\n",
              "Reading__PA             62\n",
              "Cleveland__OH         59.2\n",
              "Springfield__MA       59.2\n",
              "York__PA                64\n",
              "Little Rock__AR       72.8\n",
              "Birmingham__AL        73.8\n",
              "New York City__NY     62.0\n",
              "Providence__RI        60.6\n",
              "Detroit__MI           57.8\n",
              "Allentown__PA         61.4\n",
              "Toledo__OH            59.9\n",
              "New Haven__CT         60.6\n",
              "Lafayette__LA           79\n",
              "Youngstown__OH        58.3\n",
              "Scranton__PA          58.7\n",
              "Daytona Beach__FL     80.1\n",
              "Baltimore__MD         65.0\n",
              "Killeen__TX             78\n",
              "Philadelphia__PA      64.6\n",
              "Virginia Beach__VA    68.2\n",
              "Chicago__IL           59.0\n",
              "Corpus Christi__TX      82\n",
              "Albuquerque__NM       68.7\n",
              "Los Angeles__CA       69.0\n",
              "Beaumont__TX            78\n",
              "Baton Rouge__LA       78.9\n",
              "El Paso__TX           77.4\n",
              "Jackson__MS           75.5\n",
              "McAllen__TX           85.9\n",
              "Miami__FL             84.3\n",
              "New Orleans__LA       78.2\n",
              "Flint__MI               57\n",
              "Brownsville__TX         84\n",
              "Salinas__CA             68\n",
              "Memphis__TN           72.4\n",
              "Fresno__CA            76.7\n",
              "Modesto__CA           76.0\n",
              "Mobile__AL              77\n",
              "Shreveport__LA          77\n",
              "Stockton__CA          74.3\n",
              "Bakersfield__CA       76.8\n",
              "San Juan__PR          86.6\n",
              "Name: Avg_High_Temp, dtype: object"
            ]
          },
          "metadata": {
            "tags": []
          },
          "execution_count": 82
        }
      ]
    },
    {
      "cell_type": "code",
      "metadata": {
        "id": "xe_7p7n-jn5o",
        "colab": {
          "base_uri": "https://localhost:8080/"
        },
        "outputId": "5c1b10ad-edb4-4797-9060-f8cb3eae3ca0"
      },
      "source": [
        "# df.describe().round(3)\n",
        "\n",
        "df[\"Avg_High_Temp\"] = pd.to_numeric(df.Avg_High_Temp, errors=\"coerce\") \n",
        "df[\"Avg_Low_Temp\"] = df.Avg_Low_Temp.astype(float) \n",
        "df[\"Avg_Commute_Time\"] = df.Avg_Commute_Time.astype(float)\n",
        "#df[\"AVG_Annual_Rainfall\"] = df.AVG_Annual_Rainfall.astype(float)\n",
        "#df.info()\n",
        "df[\"AVG_Annual_Rainfall\"]"
      ],
      "execution_count": null,
      "outputs": [
        {
          "output_type": "execute_result",
          "data": {
            "text/plain": [
              "City_State\n",
              "Austin__TX              32.2 inches\n",
              "Denver__CO              14.3 inches\n",
              "Colorado Springs__CO    16.5 inches\n",
              "Fayetteville__AR        47.9 inches\n",
              "Des Moines__IA          36.0 inches\n",
              "                           ...     \n",
              "Mobile__AL                      NaN\n",
              "Shreveport__LA                  NaN\n",
              "Stockton__CA            14.1 inches\n",
              "Bakersfield__CA          6.5 inches\n",
              "San Juan__PR            56.4 inches\n",
              "Name: AVG_Annual_Rainfall, Length: 125, dtype: object"
            ]
          },
          "metadata": {
            "tags": []
          },
          "execution_count": 87
        }
      ]
    },
    {
      "cell_type": "code",
      "metadata": {
        "colab": {
          "base_uri": "https://localhost:8080/"
        },
        "id": "5u3VedzwMgJT",
        "outputId": "843c6911-f719-40ec-d528-1c82ad59bce2"
      },
      "source": [
        "df.info()"
      ],
      "execution_count": null,
      "outputs": [
        {
          "output_type": "stream",
          "text": [
            "<class 'pandas.core.frame.DataFrame'>\n",
            "Index: 125 entries, Austin__TX to San Juan__PR\n",
            "Data columns (total 14 columns):\n",
            " #   Column                 Non-Null Count  Dtype  \n",
            "---  ------                 --------------  -----  \n",
            " 0   Metro Population       125 non-null    int64  \n",
            " 1   Average Annual Salary  125 non-null    int64  \n",
            " 2   Median Age             125 non-null    float64\n",
            " 3   Median Home Price      125 non-null    float64\n",
            " 4   AVG Annual Rainfall    125 non-null    object \n",
            " 5   Unemployment Rate      125 non-null    float64\n",
            " 6   Median Monthly Rent    125 non-null    int64  \n",
            " 7   Avg Commute Time       125 non-null    object \n",
            " 8   Percent Single         125 non-null    float64\n",
            " 9   Violent crime          125 non-null    float64\n",
            " 10  Property Crime         125 non-null    float64\n",
            " 11  Avg_High_Temp          123 non-null    float64\n",
            " 12  Avg_Low_Temp           125 non-null    float64\n",
            " 13  1st_or_2nd             125 non-null    float64\n",
            "dtypes: float64(9), int64(3), object(2)\n",
            "memory usage: 19.6+ KB\n"
          ],
          "name": "stdout"
        }
      ]
    },
    {
      "cell_type": "code",
      "metadata": {
        "colab": {
          "base_uri": "https://localhost:8080/"
        },
        "id": "psZ3P6p9I9xu",
        "outputId": "5daebd8e-cfd5-44f1-8407-06252e96d193"
      },
      "source": [
        "# model_lr = make_pipeline(OneHotEncoder(use_cat_names=True), StandardScaler(), LinearRegression())\n",
        "# model_lr.fit(X_train, y_train);\n",
        "\n",
        "model_lr = make_pipeline(OneHotEncoder(use_cat_names=True),LinearRegression())\n",
        "\n",
        "model_lr.fit(X_train, y_train);"
      ],
      "execution_count": null,
      "outputs": [
        {
          "output_type": "stream",
          "text": [
            "/usr/local/lib/python3.7/dist-packages/category_encoders/utils.py:21: FutureWarning: is_categorical is deprecated and will be removed in a future version.  Use is_categorical_dtype instead\n",
            "  elif pd.api.types.is_categorical(cols):\n"
          ],
          "name": "stderr"
        }
      ]
    },
    {
      "cell_type": "code",
      "metadata": {
        "id": "VvCfNzMOwZ_l"
      },
      "source": [
        "#model_lr.score(X_train, y_train)\n",
        "#score = 1.0\n",
        "#model_lr.score(X_test, y_test)\n",
        "#score = -0.35291584201269055"
      ],
      "execution_count": null,
      "outputs": []
    },
    {
      "cell_type": "code",
      "metadata": {
        "colab": {
          "base_uri": "https://localhost:8080/"
        },
        "id": "AjGvrsB9Nwxx",
        "outputId": "ba1a0293-e2c9-4683-8572-514d460fbcb6"
      },
      "source": [
        "model_lr = make_pipeline(OneHotEncoder(use_cat_names=True), SimpleImputer(), StandardScaler(), LogisticRegression()) \n",
        "model_lr.fit(X_train, y_train);\n",
        "\n",
        "#model_lr.score(X_train, y_train) \n",
        "#score = 1.0\n",
        "model_lr.predict(X_test) \n",
        "#score = 0.2857142857142857"
      ],
      "execution_count": null,
      "outputs": [
        {
          "output_type": "stream",
          "text": [
            "/usr/local/lib/python3.7/dist-packages/category_encoders/utils.py:21: FutureWarning: is_categorical is deprecated and will be removed in a future version.  Use is_categorical_dtype instead\n",
            "  elif pd.api.types.is_categorical(cols):\n"
          ],
          "name": "stderr"
        },
        {
          "output_type": "execute_result",
          "data": {
            "text/plain": [
              "array([1., 2., 2., 2., 2., 1., 2.])"
            ]
          },
          "metadata": {
            "tags": []
          },
          "execution_count": 56
        }
      ]
    },
    {
      "cell_type": "code",
      "metadata": {
        "id": "wWxjgfjnN0h4"
      },
      "source": [
        "#model_r = make_pipeline(OneHotEncoder(use_cat_names=True), SimpleImputer(), StandardScaler(), Ridge()) \n",
        "#model_r.fit(X_train, y_train);\n",
        "\n",
        "# model_r.score(X_train, y_train)\n",
        "# score = .999\n",
        "\n",
        "#model_r.score(X_test, y_test)\n",
        "#score = -.3456"
      ],
      "execution_count": null,
      "outputs": []
    },
    {
      "cell_type": "code",
      "metadata": {
        "colab": {
          "base_uri": "https://localhost:8080/"
        },
        "id": "hpzmh2JSO-bp",
        "outputId": "b58be420-d275-47d5-da55-21a17ea861f0"
      },
      "source": [
        "model_dt = make_pipeline(OrdinalEncoder(), SimpleImputer(), StandardScaler(), RandomForestClassifier()) \n",
        "model_dt.fit(X_train, y_train);\n",
        "\n",
        "#model_dt.score(X_train, y_train)\n",
        "#score = 1 \n",
        "\n",
        "model_dt.score(X_test, y_test)\n",
        "#score = -.3999"
      ],
      "execution_count": null,
      "outputs": [
        {
          "output_type": "execute_result",
          "data": {
            "text/plain": [
              "0.8571428571428571"
            ]
          },
          "metadata": {
            "tags": []
          },
          "execution_count": 60
        }
      ]
    }
  ]
}